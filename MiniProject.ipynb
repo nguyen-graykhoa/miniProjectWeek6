{
  "nbformat": 4,
  "nbformat_minor": 0,
  "metadata": {
    "colab": {
      "name": "MiniProject.ipynb",
      "provenance": [],
      "authorship_tag": "ABX9TyOFKYPg6pscpi75ZjsKb51S",
      "include_colab_link": true
    },
    "kernelspec": {
      "name": "python3",
      "display_name": "Python 3"
    },
    "language_info": {
      "name": "python"
    }
  },
  "cells": [
    {
      "cell_type": "markdown",
      "metadata": {
        "id": "view-in-github",
        "colab_type": "text"
      },
      "source": [
        "<a href=\"https://colab.research.google.com/github/nguyen-graykhoa/miniProjectWeek6/blob/main/MiniProject.ipynb\" target=\"_parent\"><img src=\"https://colab.research.google.com/assets/colab-badge.svg\" alt=\"Open In Colab\"/></a>"
      ]
    },
    {
      "cell_type": "code",
      "metadata": {
        "id": "q6k9g6S4uOMc"
      },
      "source": [
        ""
      ],
      "execution_count": null,
      "outputs": []
    },
    {
      "cell_type": "markdown",
      "metadata": {
        "id": "VcOgVjX1udAD"
      },
      "source": [
        "# Mini Project"
      ]
    },
    {
      "cell_type": "markdown",
      "metadata": {
        "id": "oGDKdTgNwjC2"
      },
      "source": [
        "##Theory\n",
        "Canadians went to the poll on Sep 20th, 2021. As a Canadian I did my part and voted but I wasn't sure if I voted for the right party.\n",
        "\n",
        "In this mini project I will attempt to find Canada GDP over the years and to find if the Conservative government or the Liberal has done a better job with the GDP, the Canadian debt and R & D investment.\n",
        "\n",
        "I created a data set that has all the years and corresponding ruling government party. I will combine this data set with the world indicator data set that was given by our professors."
      ]
    },
    {
      "cell_type": "markdown",
      "metadata": {
        "id": "syL_WDFzu3RG"
      },
      "source": [
        "##Code"
      ]
    },
    {
      "cell_type": "code",
      "metadata": {
        "colab": {
          "base_uri": "https://localhost:8080/",
          "height": 265
        },
        "cellView": "form",
        "id": "9k7U8bXnujUk",
        "outputId": "2aa7ee55-7ee6-4d83-8403-1a96248b6d0a"
      },
      "source": [
        "#@title\n",
        "import pandas as pd\n",
        "import matplotlib.pyplot  as plt\n",
        "import numpy as np\n",
        "%matplotlib inline\n",
        "\n",
        "plt.plot([1,2,3,4,10]);"
      ],
      "execution_count": 10,
      "outputs": [
        {
          "output_type": "display_data",
          "data": {
            "image/png": "[encoded data removed]",
            "text/plain": [
              "<Figure size 432x288 with 1 Axes>"
            ]
          },
          "metadata": {
            "needs_background": "light"
          }
        }
      ]
    }
  ]
}